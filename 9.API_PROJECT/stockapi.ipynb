{
 "cells": [
  {
   "cell_type": "markdown",
   "metadata": {},
   "source": [
    "ALPHA Vantage - for stock marking scraping"
   ]
  },
  {
   "cell_type": "code",
   "execution_count": 2,
   "metadata": {},
   "outputs": [],
   "source": [
    "from warnings import filterwarnings\n",
    "filterwarnings(\"ignore\")"
   ]
  },
  {
   "cell_type": "code",
   "execution_count": 3,
   "metadata": {},
   "outputs": [
    {
     "name": "stdout",
     "output_type": "stream",
     "text": [
      "Collecting python-dotenv\n",
      "  Downloading python_dotenv-1.0.1-py3-none-any.whl.metadata (23 kB)\n",
      "Downloading python_dotenv-1.0.1-py3-none-any.whl (19 kB)\n",
      "Installing collected packages: python-dotenv\n",
      "Successfully installed python-dotenv-1.0.1\n",
      "Note: you may need to restart the kernel to use updated packages.\n"
     ]
    },
    {
     "name": "stderr",
     "output_type": "stream",
     "text": [
      "\n",
      "[notice] A new release of pip is available: 24.3.1 -> 25.0.1\n",
      "[notice] To update, run: python.exe -m pip install --upgrade pip\n"
     ]
    }
   ],
   "source": [
    "%pip install python-dotenv"
   ]
  },
  {
   "cell_type": "markdown",
   "metadata": {},
   "source": [
    "read the api key"
   ]
  },
  {
   "cell_type": "code",
   "execution_count": 4,
   "metadata": {},
   "outputs": [
    {
     "data": {
      "text/plain": [
       "True"
      ]
     },
     "execution_count": 4,
     "metadata": {},
     "output_type": "execute_result"
    }
   ],
   "source": [
    "from dotenv import load_dotenv\n",
    "load_dotenv()"
   ]
  },
  {
   "cell_type": "markdown",
   "metadata": {},
   "source": [
    "if it show true that mean apikey load"
   ]
  },
  {
   "cell_type": "code",
   "execution_count": 6,
   "metadata": {},
   "outputs": [],
   "source": [
    "import os\n",
    "api_key =  os.getenv(\"API_KEY\")\n"
   ]
  },
  {
   "cell_type": "markdown",
   "metadata": {},
   "source": [
    "api key load."
   ]
  },
  {
   "cell_type": "markdown",
   "metadata": {},
   "source": [
    "## search symbols."
   ]
  },
  {
   "cell_type": "code",
   "execution_count": 7,
   "metadata": {},
   "outputs": [],
   "source": [
    "import requests\n",
    "\n",
    "url = \"https://alpha-vantage.p.rapidapi.com/query\"\n",
    "\n",
    "querystring = {\"datatype\":\"json\",\"keywords\":\"state bank of india\",\"function\":\"SYMBOL_SEARCH\"}\n",
    "\n",
    "headers = {\n",
    "\t\"x-rapidapi-key\": api_key,\n",
    "\t\"x-rapidapi-host\": \"alpha-vantage.p.rapidapi.com\"\n",
    "}\n",
    "\n",
    "response = requests.get(url, headers=headers, params=querystring)\n",
    "\n",
    "data=response.json()"
   ]
  },
  {
   "cell_type": "code",
   "execution_count": 8,
   "metadata": {},
   "outputs": [
    {
     "data": {
      "text/plain": [
       "{'bestMatches': [{'1. symbol': 'SBIN.BSE',\n",
       "   '2. name': 'State Bank of India',\n",
       "   '3. type': 'Equity',\n",
       "   '4. region': 'India/Bombay',\n",
       "   '5. marketOpen': '09:15',\n",
       "   '6. marketClose': '15:30',\n",
       "   '7. timezone': 'UTC+5.5',\n",
       "   '8. currency': 'INR',\n",
       "   '9. matchScore': '1.0000'},\n",
       "  {'1. symbol': 'SBKFF',\n",
       "   '2. name': 'State Bank of India',\n",
       "   '3. type': 'Equity',\n",
       "   '4. region': 'United States',\n",
       "   '5. marketOpen': '09:30',\n",
       "   '6. marketClose': '16:00',\n",
       "   '7. timezone': 'UTC-04',\n",
       "   '8. currency': 'USD',\n",
       "   '9. matchScore': '1.0000'},\n",
       "  {'1. symbol': 'SID.FRK',\n",
       "   '2. name': 'State Bank of India',\n",
       "   '3. type': 'Equity',\n",
       "   '4. region': 'Frankfurt',\n",
       "   '5. marketOpen': '08:00',\n",
       "   '6. marketClose': '20:00',\n",
       "   '7. timezone': 'UTC+02',\n",
       "   '8. currency': 'EUR',\n",
       "   '9. matchScore': '1.0000'},\n",
       "  {'1. symbol': 'SBID.LON',\n",
       "   '2. name': 'State Bank of India GDR',\n",
       "   '3. type': 'Equity',\n",
       "   '4. region': 'United Kingdom',\n",
       "   '5. marketOpen': '08:00',\n",
       "   '6. marketClose': '16:30',\n",
       "   '7. timezone': 'UTC+01',\n",
       "   '8. currency': 'USD',\n",
       "   '9. matchScore': '0.9048'}]}"
      ]
     },
     "execution_count": 8,
     "metadata": {},
     "output_type": "execute_result"
    }
   ],
   "source": [
    "data"
   ]
  },
  {
   "cell_type": "code",
   "execution_count": 9,
   "metadata": {},
   "outputs": [
    {
     "data": {
      "text/plain": [
       "[{'1. symbol': 'SBIN.BSE',\n",
       "  '2. name': 'State Bank of India',\n",
       "  '3. type': 'Equity',\n",
       "  '4. region': 'India/Bombay',\n",
       "  '5. marketOpen': '09:15',\n",
       "  '6. marketClose': '15:30',\n",
       "  '7. timezone': 'UTC+5.5',\n",
       "  '8. currency': 'INR',\n",
       "  '9. matchScore': '1.0000'},\n",
       " {'1. symbol': 'SBKFF',\n",
       "  '2. name': 'State Bank of India',\n",
       "  '3. type': 'Equity',\n",
       "  '4. region': 'United States',\n",
       "  '5. marketOpen': '09:30',\n",
       "  '6. marketClose': '16:00',\n",
       "  '7. timezone': 'UTC-04',\n",
       "  '8. currency': 'USD',\n",
       "  '9. matchScore': '1.0000'},\n",
       " {'1. symbol': 'SID.FRK',\n",
       "  '2. name': 'State Bank of India',\n",
       "  '3. type': 'Equity',\n",
       "  '4. region': 'Frankfurt',\n",
       "  '5. marketOpen': '08:00',\n",
       "  '6. marketClose': '20:00',\n",
       "  '7. timezone': 'UTC+02',\n",
       "  '8. currency': 'EUR',\n",
       "  '9. matchScore': '1.0000'},\n",
       " {'1. symbol': 'SBID.LON',\n",
       "  '2. name': 'State Bank of India GDR',\n",
       "  '3. type': 'Equity',\n",
       "  '4. region': 'United Kingdom',\n",
       "  '5. marketOpen': '08:00',\n",
       "  '6. marketClose': '16:30',\n",
       "  '7. timezone': 'UTC+01',\n",
       "  '8. currency': 'USD',\n",
       "  '9. matchScore': '0.9048'}]"
      ]
     },
     "execution_count": 9,
     "metadata": {},
     "output_type": "execute_result"
    }
   ],
   "source": [
    "data[\"bestMatches\"]"
   ]
  },
  {
   "cell_type": "markdown",
   "metadata": {},
   "source": [
    "### extract requrired data."
   ]
  },
  {
   "cell_type": "code",
   "execution_count": null,
   "metadata": {},
   "outputs": [],
   "source": []
  },
  {
   "cell_type": "markdown",
   "metadata": {},
   "source": []
  },
  {
   "cell_type": "code",
   "execution_count": null,
   "metadata": {},
   "outputs": [],
   "source": []
  }
 ],
 "metadata": {
  "kernelspec": {
   "display_name": "venv",
   "language": "python",
   "name": "python3"
  },
  "language_info": {
   "codemirror_mode": {
    "name": "ipython",
    "version": 3
   },
   "file_extension": ".py",
   "mimetype": "text/x-python",
   "name": "python",
   "nbconvert_exporter": "python",
   "pygments_lexer": "ipython3",
   "version": "3.13.2"
  }
 },
 "nbformat": 4,
 "nbformat_minor": 2
}
