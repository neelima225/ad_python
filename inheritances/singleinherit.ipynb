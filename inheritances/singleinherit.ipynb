{
 "cells": [
  {
   "cell_type": "markdown",
   "metadata": {},
   "source": [
    "## inheritance\n",
    "1.single inheritancs"
   ]
  },
  {
   "cell_type": "code",
   "execution_count": 32,
   "metadata": {},
   "outputs": [],
   "source": [
    "class Person:\n",
    "\n",
    "    def __init__ (self,name:str,age:int):\n",
    "        self.name= name\n",
    "        self.age = age\n",
    "\n",
    "    def intro(self) :\n",
    "        print(f\"my name is {self.name}\") \n",
    "        print(f\"i am {self.age} year old\") \n",
    "\n",
    "\n",
    "        "
   ]
  },
  {
   "cell_type": "code",
   "execution_count": 33,
   "metadata": {},
   "outputs": [],
   "source": [
    "class Employee(Person):\n",
    "    def __init__(self, name: str, age :int, company :str):\n",
    "        super()._init_(name,age)\n",
    "        self.company = company\n",
    "    def work(self):\n",
    "        print(f\"i works as {self.company}\")"
   ]
  },
  {
   "cell_type": "code",
   "execution_count": 34,
   "metadata": {},
   "outputs": [],
   "source": [
    "p1=Person(name =\"yy\",age=20)"
   ]
  },
  {
   "cell_type": "code",
   "execution_count": 35,
   "metadata": {},
   "outputs": [
    {
     "data": {
      "text/plain": [
       "__main__.Person"
      ]
     },
     "execution_count": 35,
     "metadata": {},
     "output_type": "execute_result"
    }
   ],
   "source": [
    "type(p1)"
   ]
  },
  {
   "cell_type": "code",
   "execution_count": 36,
   "metadata": {},
   "outputs": [
    {
     "name": "stdout",
     "output_type": "stream",
     "text": [
      "my name is yy\n",
      "i am 20 year old\n"
     ]
    }
   ],
   "source": [
    "p1.intro()"
   ]
  },
  {
   "cell_type": "code",
   "execution_count": 28,
   "metadata": {},
   "outputs": [
    {
     "ename": "AttributeError",
     "evalue": "'super' object has no attribute '_init_'",
     "output_type": "error",
     "traceback": [
      "\u001b[1;31m---------------------------------------------------------------------------\u001b[0m",
      "\u001b[1;31mAttributeError\u001b[0m                            Traceback (most recent call last)",
      "Cell \u001b[1;32mIn[28], line 1\u001b[0m\n\u001b[1;32m----> 1\u001b[0m e1\u001b[38;5;241m=\u001b[39m \u001b[43mEmployee\u001b[49m\u001b[43m(\u001b[49m\u001b[38;5;124;43m\"\u001b[39;49m\u001b[38;5;124;43mnn\u001b[39;49m\u001b[38;5;124;43m\"\u001b[39;49m\u001b[43m,\u001b[49m\u001b[38;5;241;43m26\u001b[39;49m\u001b[43m,\u001b[49m\u001b[38;5;124;43m\"\u001b[39;49m\u001b[38;5;124;43mtcs\u001b[39;49m\u001b[38;5;124;43m\"\u001b[39;49m\u001b[43m)\u001b[49m\n\u001b[0;32m      2\u001b[0m \u001b[38;5;28mtype\u001b[39m(e1)\n",
      "Cell \u001b[1;32mIn[23], line 3\u001b[0m, in \u001b[0;36mEmployee.__init__\u001b[1;34m(self, name, age, company)\u001b[0m\n\u001b[0;32m      2\u001b[0m \u001b[38;5;28;01mdef\u001b[39;00m\u001b[38;5;250m \u001b[39m\u001b[38;5;21m__init__\u001b[39m(\u001b[38;5;28mself\u001b[39m, name:\u001b[38;5;28mstr\u001b[39m, age :\u001b[38;5;28mint\u001b[39m, company :\u001b[38;5;28mstr\u001b[39m):\n\u001b[1;32m----> 3\u001b[0m     \u001b[38;5;28;43msuper\u001b[39;49m\u001b[43m(\u001b[49m\u001b[43m)\u001b[49m\u001b[38;5;241;43m.\u001b[39;49m\u001b[43m_init_\u001b[49m(name,age)\n\u001b[0;32m      4\u001b[0m     \u001b[38;5;28mself\u001b[39m\u001b[38;5;241m.\u001b[39mcompany \u001b[38;5;241m=\u001b[39m company\n",
      "\u001b[1;31mAttributeError\u001b[0m: 'super' object has no attribute '_init_'"
     ]
    }
   ],
   "source": [
    "e1= Employee(\"nn\",26,\"tcs\")\n",
    "type(e1)"
   ]
  },
  {
   "cell_type": "code",
   "execution_count": 31,
   "metadata": {},
   "outputs": [
    {
     "name": "stdout",
     "output_type": "stream",
     "text": [
      "Collecting pydantic\n",
      "  Using cached pydantic-2.10.6-py3-none-any.whl.metadata (30 kB)\n",
      "Collecting email-validator\n",
      "  Downloading email_validator-2.2.0-py3-none-any.whl.metadata (25 kB)\n",
      "Collecting annotated-types>=0.6.0 (from pydantic)\n",
      "  Downloading annotated_types-0.7.0-py3-none-any.whl.metadata (15 kB)\n",
      "Collecting pydantic-core==2.27.2 (from pydantic)\n",
      "  Downloading pydantic_core-2.27.2-cp313-cp313-win_amd64.whl.metadata (6.7 kB)\n",
      "Collecting typing-extensions>=4.12.2 (from pydantic)\n",
      "  Downloading typing_extensions-4.12.2-py3-none-any.whl.metadata (3.0 kB)\n",
      "Collecting dnspython>=2.0.0 (from email-validator)\n",
      "  Downloading dnspython-2.7.0-py3-none-any.whl.metadata (5.8 kB)\n",
      "Requirement already satisfied: idna>=2.0.0 in c:\\users\\dell-pc\\desktop\\ad_python_vscode\\repository\\venv\\lib\\site-packages (from email-validator) (3.10)\n",
      "Downloading pydantic-2.10.6-py3-none-any.whl (431 kB)\n",
      "Downloading pydantic_core-2.27.2-cp313-cp313-win_amd64.whl (2.0 MB)\n",
      "   ---------------------------------------- 0.0/2.0 MB ? eta -:--:--\n",
      "   ------------------------------------ --- 1.8/2.0 MB 11.1 MB/s eta 0:00:01\n",
      "   ---------------------------------------- 2.0/2.0 MB 8.1 MB/s eta 0:00:00\n",
      "Downloading email_validator-2.2.0-py3-none-any.whl (33 kB)\n",
      "Downloading annotated_types-0.7.0-py3-none-any.whl (13 kB)\n",
      "Downloading dnspython-2.7.0-py3-none-any.whl (313 kB)\n",
      "Downloading typing_extensions-4.12.2-py3-none-any.whl (37 kB)\n",
      "Installing collected packages: typing-extensions, dnspython, annotated-types, pydantic-core, email-validator, pydantic\n",
      "Successfully installed annotated-types-0.7.0 dnspython-2.7.0 email-validator-2.2.0 pydantic-2.10.6 pydantic-core-2.27.2 typing-extensions-4.12.2\n",
      "Note: you may need to restart the kernel to use updated packages.\n"
     ]
    },
    {
     "name": "stderr",
     "output_type": "stream",
     "text": [
      "\n",
      "[notice] A new release of pip is available: 24.3.1 -> 25.0\n",
      "[notice] To update, run: python.exe -m pip install --upgrade pip\n"
     ]
    }
   ],
   "source": [
    "%pip install pydantic email-validator"
   ]
  },
  {
   "cell_type": "markdown",
   "metadata": {},
   "source": [
    "Conditions pydantic\n",
    "gt - greater than\n",
    "ge - greater than or equal to\n",
    "lt - less than\n",
    "le - less than or equal to"
   ]
  },
  {
   "cell_type": "code",
   "execution_count": 37,
   "metadata": {},
   "outputs": [],
   "source": [
    "from pydantic import BaseModel, Field, EmailStr"
   ]
  },
  {
   "cell_type": "code",
   "execution_count": 38,
   "metadata": {},
   "outputs": [],
   "source": [
    "from typing import Literal"
   ]
  },
  {
   "cell_type": "code",
   "execution_count": 39,
   "metadata": {},
   "outputs": [],
   "source": [
    "class Student(BaseModel):\n",
    "    roll_no: int = Field(description=\"Student Roll number\", ge=1, le=2000)\n",
    "    name: str = Field(description=\"Student Name\", min_length=3, max_length=50)\n",
    "    gender: Literal[\"male\", \"female\"] = Field(description=\"student gender\")\n",
    "    email: EmailStr = Field(description=\"Student email\")\n",
    "    hobbies: list[str] = Field(description=\"Student Hobbies\", default_factory=list)\n",
    "\n",
    "    def get_info(self):\n",
    "        print(f\"Roll No. : {self.roll_no}\")\n",
    "        print(f\"Name : {self.name}\")\n",
    "        print(f\"Gender : {self.gender}\")\n",
    "        print(f\"Email : {self.email}\")\n",
    "        print(f\"Hobbies : {self.hobbies}\")"
   ]
  },
  {
   "cell_type": "code",
   "execution_count": 42,
   "metadata": {},
   "outputs": [],
   "source": [
    "s1 =Student(\n",
    "    roll_no = 101,\n",
    "    name= \"neelima\",\n",
    "    gender =\"male\",\n",
    "    email = \"raman@test.com\",\n",
    "    hobbies= [\"Cricket\", \"Singing\"]\n",
    ")"
   ]
  },
  {
   "cell_type": "code",
   "execution_count": 43,
   "metadata": {},
   "outputs": [
    {
     "data": {
      "text/plain": [
       "Student(roll_no=101, name='neelima', gender='male', email='raman@test.com', hobbies=['Cricket', 'Singing'])"
      ]
     },
     "execution_count": 43,
     "metadata": {},
     "output_type": "execute_result"
    }
   ],
   "source": [
    "s1"
   ]
  },
  {
   "cell_type": "code",
   "execution_count": 44,
   "metadata": {},
   "outputs": [
    {
     "name": "stdout",
     "output_type": "stream",
     "text": [
      "Roll No. : 101\n",
      "Name : neelima\n",
      "Gender : male\n",
      "Email : raman@test.com\n",
      "Hobbies : ['Cricket', 'Singing']\n"
     ]
    }
   ],
   "source": [
    "s1.get_info()"
   ]
  },
  {
   "cell_type": "markdown",
   "metadata": {},
   "source": [
    "multiple inheritance"
   ]
  },
  {
   "cell_type": "code",
   "execution_count": null,
   "metadata": {},
   "outputs": [],
   "source": [
    "class Basesalary:\n",
    "\n",
    "    def __init__(self)"
   ]
  }
 ],
 "metadata": {
  "kernelspec": {
   "display_name": "venv",
   "language": "python",
   "name": "python3"
  },
  "language_info": {
   "codemirror_mode": {
    "name": "ipython",
    "version": 3
   },
   "file_extension": ".py",
   "mimetype": "text/x-python",
   "name": "python",
   "nbconvert_exporter": "python",
   "pygments_lexer": "ipython3",
   "version": "3.13.1"
  }
 },
 "nbformat": 4,
 "nbformat_minor": 2
}
