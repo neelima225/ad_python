{
 "cells": [
  {
   "cell_type": "markdown",
   "metadata": {},
   "source": [
    "### Decorator..."
   ]
  },
  {
   "cell_type": "code",
   "execution_count": 3,
   "metadata": {},
   "outputs": [],
   "source": [
    "def welcome(func):\n",
    "    def wrapper(*args ,**kwargs):\n",
    "        print(\"welcome\")\n",
    "        r= func(*args,**kwargs)\n",
    "        print(f\"function statment\",{r})\n",
    "        print(\"thanku\")\n",
    "        return r\n",
    "    return wrapper       \n"
   ]
  },
  {
   "cell_type": "code",
   "execution_count": 5,
   "metadata": {},
   "outputs": [],
   "source": [
    "\n",
    "@welcome\n",
    "def simple(p,r,t):\n",
    "    S = (p*r*t)/100\n",
    "    return S"
   ]
  },
  {
   "cell_type": "code",
   "execution_count": 6,
   "metadata": {},
   "outputs": [
    {
     "name": "stdout",
     "output_type": "stream",
     "text": [
      "welcome\n",
      "function statment {0.12}\n",
      "thanku\n"
     ]
    },
    {
     "data": {
      "text/plain": [
       "0.12"
      ]
     },
     "execution_count": 6,
     "metadata": {},
     "output_type": "execute_result"
    }
   ],
   "source": [
    "simple(100,0.02,6)"
   ]
  },
  {
   "cell_type": "code",
   "execution_count": 18,
   "metadata": {},
   "outputs": [],
   "source": [
    "@welcome\n",
    "def simple2( p= 120, r =0.03 , t = 5):\n",
    "    S2 = (p* r * t)\n",
    "    a = S2+ p\n",
    "    return S2,a\n"
   ]
  },
  {
   "cell_type": "code",
   "execution_count": 19,
   "metadata": {},
   "outputs": [
    {
     "name": "stdout",
     "output_type": "stream",
     "text": [
      "welcome\n",
      "function statment {(21.599999999999998, 141.6)}\n",
      "thanku\n"
     ]
    }
   ],
   "source": [
    "S2, a =simple2( p= 120 ,r = 0.03 ,t = 6)"
   ]
  },
  {
   "cell_type": "code",
   "execution_count": 20,
   "metadata": {},
   "outputs": [
    {
     "name": "stdout",
     "output_type": "stream",
     "text": [
      "welcome\n",
      "function statment {(33.0, 143.0)}\n",
      "thanku\n"
     ]
    }
   ],
   "source": [
    "s3 , a1 =simple2(p= 110, r =0.06 ,t =5)"
   ]
  },
  {
   "cell_type": "code",
   "execution_count": 38,
   "metadata": {},
   "outputs": [],
   "source": [
    "def detail(user):\n",
    "    def wrapper(*args ,**kwargs):\n",
    "        print(\"user details\")\n",
    "        user = (*args ,*kwargs)\n",
    "        print(f\"statement\",{user})\n",
    "        print(\"complete detail\")\n",
    "        return user\n",
    "    return wrapper\n"
   ]
  },
  {
   "cell_type": "code",
   "execution_count": 35,
   "metadata": {},
   "outputs": [],
   "source": [
    "@detail\n",
    "def candidate1(**kwargs):\n",
    "    student1 ={\n",
    "        \"name\" : \"NA\",\n",
    "        \"id\" :\"NA\",\n",
    "        \"COURSE\":\"NA\"\n",
    "    }\n",
    "    \n",
    "    student1.update(kwargs)\n",
    "\n",
    "    return student1\n",
    "    "
   ]
  },
  {
   "cell_type": "code",
   "execution_count": 39,
   "metadata": {},
   "outputs": [
    {
     "name": "stdout",
     "output_type": "stream",
     "text": [
      "user details\n",
      "complete detail\n"
     ]
    },
    {
     "data": {
      "text/plain": [
       "('name', 'id')"
      ]
     },
     "execution_count": 39,
     "metadata": {},
     "output_type": "execute_result"
    }
   ],
   "source": [
    "candidate1(name =\"neelima\", id = 101)"
   ]
  },
  {
   "cell_type": "code",
   "execution_count": 1,
   "metadata": {},
   "outputs": [],
   "source": [
    "import time"
   ]
  },
  {
   "cell_type": "code",
   "execution_count": 2,
   "metadata": {},
   "outputs": [
    {
     "name": "stdout",
     "output_type": "stream",
     "text": [
      "hello\n",
      "good morning\n"
     ]
    }
   ],
   "source": [
    "time.sleep(1.5)\n",
    "print(\"hello\")\n",
    "time.sleep(2)\n",
    "print(\"good morning\")"
   ]
  },
  {
   "cell_type": "code",
   "execution_count": 3,
   "metadata": {},
   "outputs": [
    {
     "name": "stdout",
     "output_type": "stream",
     "text": [
      "hello\n",
      "good morning\n",
      "time for execution :3.50 sec\n"
     ]
    }
   ],
   "source": [
    "# start th timing \n",
    "start = time.perf_counter()\n",
    "time.sleep(1.5)\n",
    "print(\"hello\")\n",
    "time.sleep(2)\n",
    "print(\"good morning\")\n",
    "\n",
    "# stop time\n",
    "stop = time.perf_counter()\n",
    "\n",
    "# get the elapsed time\n",
    "elapsed = stop- start\n",
    "print(f\"time for execution :{elapsed:.2f} sec\")"
   ]
  },
  {
   "cell_type": "code",
   "execution_count": 4,
   "metadata": {},
   "outputs": [],
   "source": [
    "def time_decorator(func):\n",
    "   \n",
    "   def wrapper(*args,**kwargs):\n",
    "      start = time.perf_counter()\n",
    "      r = func(*args,**kwargs)\n",
    "      print(f\"results:{r}\")\n",
    "      stop =time.perf_counter()\n",
    "      elapsed =stop-start\n",
    "      print(f\"elsaped time:{elapsed:.2f} sec\")\n",
    "      return r\n",
    "   \n",
    "   return wrapper"
   ]
  },
  {
   "cell_type": "code",
   "execution_count": 5,
   "metadata": {},
   "outputs": [],
   "source": [
    "@time_decorator\n",
    "def time1(t1):\n",
    "    time.sleep(3)\n",
    "\n",
    "    return t1+4"
   ]
  },
  {
   "cell_type": "code",
   "execution_count": 6,
   "metadata": {},
   "outputs": [
    {
     "name": "stdout",
     "output_type": "stream",
     "text": [
      "results:8\n",
      "elsaped time:3.01 sec\n"
     ]
    }
   ],
   "source": [
    "t2 = time1(4)"
   ]
  },
  {
   "cell_type": "code",
   "execution_count": 7,
   "metadata": {},
   "outputs": [],
   "source": [
    "def square(n):\n",
    "    time.sleep(3.2)\n",
    "    return n**2\n"
   ]
  },
  {
   "cell_type": "code",
   "execution_count": 8,
   "metadata": {},
   "outputs": [],
   "source": [
    "s1=square(n=12)"
   ]
  },
  {
   "cell_type": "code",
   "execution_count": 9,
   "metadata": {},
   "outputs": [
    {
     "data": {
      "text/plain": [
       "144"
      ]
     },
     "execution_count": 9,
     "metadata": {},
     "output_type": "execute_result"
    }
   ],
   "source": [
    "s1"
   ]
  },
  {
   "cell_type": "code",
   "execution_count": 14,
   "metadata": {},
   "outputs": [],
   "source": [
    "@time_decorator \n",
    "def sum_square(a:list[int|float])-> int |float:\n",
    "\n",
    "    s = 0\n",
    "    for i in a:\n",
    "        time.sleep(1)\n",
    "        s = s + i**2\n",
    "\n",
    "\n",
    "    return s   "
   ]
  },
  {
   "cell_type": "code",
   "execution_count": 15,
   "metadata": {},
   "outputs": [
    {
     "data": {
      "text/plain": [
       "list"
      ]
     },
     "execution_count": 15,
     "metadata": {},
     "output_type": "execute_result"
    }
   ],
   "source": [
    "b = [2,3,6]\n",
    "type (b)"
   ]
  },
  {
   "cell_type": "code",
   "execution_count": 16,
   "metadata": {},
   "outputs": [
    {
     "data": {
      "text/plain": [
       "3"
      ]
     },
     "execution_count": 16,
     "metadata": {},
     "output_type": "execute_result"
    }
   ],
   "source": [
    "len(b)"
   ]
  },
  {
   "cell_type": "code",
   "execution_count": 17,
   "metadata": {},
   "outputs": [
    {
     "name": "stdout",
     "output_type": "stream",
     "text": [
      "results:49\n",
      "elsaped time:3.01 sec\n"
     ]
    },
    {
     "data": {
      "text/plain": [
       "49"
      ]
     },
     "execution_count": 17,
     "metadata": {},
     "output_type": "execute_result"
    }
   ],
   "source": [
    "sum_square(b)"
   ]
  },
  {
   "cell_type": "markdown",
   "metadata": {},
   "source": [
    "## Requried to download the file"
   ]
  },
  {
   "cell_type": "code",
   "execution_count": 18,
   "metadata": {},
   "outputs": [
    {
     "name": "stdout",
     "output_type": "stream",
     "text": [
      "https://github.com/utkarshg1/Adv-Python-3pm-Ravet-4th-Jan/blob/main/2%20Decorators/data.csv\n"
     ]
    }
   ],
   "source": [
    "url1 =\"https://github.com/utkarshg1/Adv-Python-3pm-Ravet-4th-Jan/blob/main/2%20Decorators/data.csv\"\n",
    "print(url1)"
   ]
  },
  {
   "cell_type": "code",
   "execution_count": 19,
   "metadata": {},
   "outputs": [
    {
     "data": {
      "text/plain": [
       "['https:',\n",
       " '',\n",
       " 'github.com',\n",
       " 'utkarshg1',\n",
       " 'Adv-Python-3pm-Ravet-4th-Jan',\n",
       " 'blob',\n",
       " 'main',\n",
       " '2%20Decorators',\n",
       " 'data.csv']"
      ]
     },
     "execution_count": 19,
     "metadata": {},
     "output_type": "execute_result"
    }
   ],
   "source": [
    "url1.split(\"/\")"
   ]
  },
  {
   "cell_type": "code",
   "execution_count": 20,
   "metadata": {},
   "outputs": [
    {
     "data": {
      "text/plain": [
       "'data.csv'"
      ]
     },
     "execution_count": 20,
     "metadata": {},
     "output_type": "execute_result"
    }
   ],
   "source": [
    "url1.split(\"/\")[-1]"
   ]
  },
  {
   "cell_type": "code",
   "execution_count": 21,
   "metadata": {},
   "outputs": [
    {
     "data": {
      "text/plain": [
       "'2%20Decorators'"
      ]
     },
     "execution_count": 21,
     "metadata": {},
     "output_type": "execute_result"
    }
   ],
   "source": [
    "url1.split(\"/\")[-2]"
   ]
  },
  {
   "cell_type": "code",
   "execution_count": 22,
   "metadata": {},
   "outputs": [],
   "source": [
    "from urllib.request import urlretrieve"
   ]
  },
  {
   "cell_type": "code",
   "execution_count": 23,
   "metadata": {},
   "outputs": [],
   "source": [
    "@time_decorator\n",
    "def download_file(url :str):\n",
    "    filename = url.split(\"/\")[-1]\n",
    "    print(f\"{filename} download started....\")\n",
    "    urlretrieve(url ,filename)\n",
    "    print(f\"{filename} download complete\")\n",
    "           \n",
    "    "
   ]
  },
  {
   "cell_type": "code",
   "execution_count": 25,
   "metadata": {},
   "outputs": [
    {
     "data": {
      "text/plain": [
       "'https://github.com/utkarshg1/Adv-Python-3pm-Ravet-4th-Jan/blob/main/2%20Decorators/data.csv'"
      ]
     },
     "execution_count": 25,
     "metadata": {},
     "output_type": "execute_result"
    }
   ],
   "source": [
    "url1"
   ]
  },
  {
   "cell_type": "code",
   "execution_count": 26,
   "metadata": {},
   "outputs": [
    {
     "name": "stdout",
     "output_type": "stream",
     "text": [
      "data.csv download started....\n",
      "data.csv download complete\n",
      "results:None\n",
      "elsaped time:1.14 sec\n"
     ]
    }
   ],
   "source": [
    "download_file(url =url1)"
   ]
  }
 ],
 "metadata": {
  "kernelspec": {
   "display_name": "venv",
   "language": "python",
   "name": "python3"
  },
  "language_info": {
   "codemirror_mode": {
    "name": "ipython",
    "version": 3
   },
   "file_extension": ".py",
   "mimetype": "text/x-python",
   "name": "python",
   "nbconvert_exporter": "python",
   "pygments_lexer": "ipython3",
   "version": "3.13.1"
  }
 },
 "nbformat": 4,
 "nbformat_minor": 2
}
