{
 "cells": [
  {
   "cell_type": "code",
   "execution_count": 1,
   "metadata": {},
   "outputs": [],
   "source": [
    "from warnings import filterwarnings\n",
    "filterwarnings(\"ignore\")"
   ]
  },
  {
   "cell_type": "code",
   "execution_count": 2,
   "metadata": {},
   "outputs": [
    {
     "name": "stdout",
     "output_type": "stream",
     "text": [
      "https://www.w3schools.com/python/\n"
     ]
    }
   ],
   "source": [
    "url1=\"https://www.w3schools.com/python/\"\n",
    "print(url1)"
   ]
  },
  {
   "cell_type": "code",
   "execution_count": 3,
   "metadata": {},
   "outputs": [
    {
     "name": "stdout",
     "output_type": "stream",
     "text": [
      "Requirement already satisfied: requests in c:\\users\\dell-pc\\desktop\\ad_python_vscode\\repository\\venv\\lib\\site-packages (2.32.3)Note: you may need to restart the kernel to use updated packages.\n",
      "\n",
      "Requirement already satisfied: beautifulsoup4 in c:\\users\\dell-pc\\desktop\\ad_python_vscode\\repository\\venv\\lib\\site-packages (4.12.3)\n",
      "Requirement already satisfied: charset-normalizer<4,>=2 in c:\\users\\dell-pc\\desktop\\ad_python_vscode\\repository\\venv\\lib\\site-packages (from requests) (3.4.1)\n",
      "Requirement already satisfied: idna<4,>=2.5 in c:\\users\\dell-pc\\desktop\\ad_python_vscode\\repository\\venv\\lib\\site-packages (from requests) (3.10)\n",
      "Requirement already satisfied: urllib3<3,>=1.21.1 in c:\\users\\dell-pc\\desktop\\ad_python_vscode\\repository\\venv\\lib\\site-packages (from requests) (2.3.0)\n",
      "Requirement already satisfied: certifi>=2017.4.17 in c:\\users\\dell-pc\\desktop\\ad_python_vscode\\repository\\venv\\lib\\site-packages (from requests) (2024.12.14)\n",
      "Requirement already satisfied: soupsieve>1.2 in c:\\users\\dell-pc\\desktop\\ad_python_vscode\\repository\\venv\\lib\\site-packages (from beautifulsoup4) (2.6)\n"
     ]
    },
    {
     "name": "stderr",
     "output_type": "stream",
     "text": [
      "\n",
      "[notice] A new release of pip is available: 24.3.1 -> 25.0.1\n",
      "[notice] To update, run: python.exe -m pip install --upgrade pip\n"
     ]
    }
   ],
   "source": [
    "%pip install requests beautifulsoup4"
   ]
  },
  {
   "cell_type": "code",
   "execution_count": 4,
   "metadata": {},
   "outputs": [],
   "source": [
    "import requests"
   ]
  },
  {
   "cell_type": "code",
   "execution_count": 5,
   "metadata": {},
   "outputs": [],
   "source": [
    "response = requests.get(url1)"
   ]
  },
  {
   "cell_type": "code",
   "execution_count": 6,
   "metadata": {},
   "outputs": [
    {
     "data": {
      "text/plain": [
       "<Response [200]>"
      ]
     },
     "execution_count": 6,
     "metadata": {},
     "output_type": "execute_result"
    }
   ],
   "source": [
    "response"
   ]
  },
  {
   "cell_type": "code",
   "execution_count": 7,
   "metadata": {},
   "outputs": [
    {
     "name": "stdout",
     "output_type": "stream",
     "text": [
      "b'\\n<!DOCTYPE html>\\n<html lang=\"en-US\">\\n<head><title>'\n"
     ]
    }
   ],
   "source": [
    "content = response.content\n",
    "print(content[0:50])"
   ]
  },
  {
   "cell_type": "code",
   "execution_count": 8,
   "metadata": {},
   "outputs": [],
   "source": [
    "from bs4 import BeautifulSoup"
   ]
  },
  {
   "cell_type": "code",
   "execution_count": 9,
   "metadata": {},
   "outputs": [],
   "source": [
    "soup = BeautifulSoup(content)"
   ]
  },
  {
   "cell_type": "code",
   "execution_count": 10,
   "metadata": {},
   "outputs": [
    {
     "data": {
      "text/plain": [
       "bs4.BeautifulSoup"
      ]
     },
     "execution_count": 10,
     "metadata": {},
     "output_type": "execute_result"
    }
   ],
   "source": [
    "type(soup)"
   ]
  },
  {
   "cell_type": "code",
   "execution_count": 11,
   "metadata": {},
   "outputs": [
    {
     "name": "stdout",
     "output_type": "stream",
     "text": [
      "title\n"
     ]
    }
   ],
   "source": [
    "title =soup.find(\"title\")\n",
    "print(\"title\")"
   ]
  },
  {
   "cell_type": "code",
   "execution_count": 15,
   "metadata": {},
   "outputs": [
    {
     "data": {
      "text/plain": [
       "'Python Tutorial'"
      ]
     },
     "execution_count": 15,
     "metadata": {},
     "output_type": "execute_result"
    }
   ],
   "source": [
    "title.text"
   ]
  },
  {
   "cell_type": "code",
   "execution_count": 24,
   "metadata": {},
   "outputs": [],
   "source": [
    "h1_tag = soup.find(\"h1\" , class_=\"mainLeaderBoard\")\n",
    "\n"
   ]
  },
  {
   "cell_type": "code",
   "execution_count": 25,
   "metadata": {},
   "outputs": [],
   "source": [
    "h1_tag"
   ]
  },
  {
   "cell_type": "markdown",
   "metadata": {},
   "source": [
    "## sunheading form w3school"
   ]
  },
  {
   "cell_type": "code",
   "execution_count": 31,
   "metadata": {},
   "outputs": [],
   "source": [
    "sub_tags = soup.find(\"div\" ,class_=\"w3-clear nextprev\")"
   ]
  },
  {
   "cell_type": "code",
   "execution_count": 32,
   "metadata": {},
   "outputs": [
    {
     "data": {
      "text/plain": [
       "'\\n❮ Home\\nNext ❯\\n'"
      ]
     },
     "execution_count": 32,
     "metadata": {},
     "output_type": "execute_result"
    }
   ],
   "source": [
    "sub_tags.text"
   ]
  },
  {
   "cell_type": "code",
   "execution_count": 34,
   "metadata": {},
   "outputs": [],
   "source": [
    "sub_tag2 = soup.find(\"div\", class_=\"contentcontainer\")"
   ]
  },
  {
   "cell_type": "code",
   "execution_count": 36,
   "metadata": {},
   "outputs": [
    {
     "data": {
      "text/plain": [
       "'\\n\\n\\n\\n\\n\\nPython Tutorial\\nPython HOME\\nPython Intro\\nPython Get Started\\nPython Syntax\\nPython Comments\\nPython Variables\\n\\nPython Variables\\nVariable Names\\nAssign Multiple Values\\nOutput Variables\\nGlobal Variables\\nVariable Exercises\\n\\nPython Data Types\\nPython Numbers\\n\\nPython Casting\\nPython Strings\\n\\nPython Strings\\nSlicing Strings\\nModify Strings\\nConcatenate Strings\\nFormat Strings\\nEscape Characters\\nString Methods\\nString Exercises\\n\\nPython Booleans\\nPython Operators\\nPython Lists\\n\\nPython Lists\\nAccess List Items\\nChange List Items\\nAdd List Items\\nRemove List Items\\nLoop Lists\\nList Comprehension\\nSort Lists\\nCopy Lists\\nJoin Lists\\nList Methods\\nList Exercises\\n\\nPython Tuples\\n\\nPython Tuples\\nAccess Tuples\\nUpdate Tuples\\nUnpack Tuples\\nLoop Tuples\\nJoin Tuples\\nTuple Methods\\nTuple Exercises\\n\\nPython Sets\\n\\nPython Sets\\nAccess Set Items\\nAdd Set Items\\nRemove Set Items\\nLoop Sets\\nJoin Sets\\nSet Methods\\nSet Exercises\\n\\nPython Dictionaries\\n\\nPython Dictionaries\\nAccess Items\\nChange Items\\nAdd Items\\nRemove Items\\nLoop Dictionaries\\nCopy Dictionaries\\nNested Dictionaries\\nDictionary Methods\\nDictionary Exercises\\n\\nPython If...Else\\nPython While Loops\\nPython For Loops\\n\\nPython Functions\\nPython Lambda\\nPython Arrays\\nPython Classes/Objects\\nPython Inheritance\\nPython Iterators\\nPython Polymorphism\\nPython Scope\\nPython Modules\\nPython Dates\\nPython Math\\nPython JSON\\nPython RegEx\\nPython PIP\\nPython Try...Except\\nPython User Input\\nPython String Formatting\\n\\nFile Handling\\nPython File Handling\\nPython Read Files\\nPython Write/Create Files\\nPython Delete Files\\n\\nPython Modules\\nNumPy Tutorial\\nPandas Tutorial\\nSciPy Tutorial\\nDjango Tutorial\\n\\n\\n\\nPython Matplotlib\\nMatplotlib Intro\\nMatplotlib Get Started\\nMatplotlib Pyplot\\nMatplotlib Plotting\\nMatplotlib Markers\\nMatplotlib Line\\nMatplotlib Labels\\nMatplotlib Grid\\nMatplotlib Subplot\\nMatplotlib Scatter\\nMatplotlib Bars\\nMatplotlib Histograms\\nMatplotlib Pie Charts\\n\\n\\nMachine Learning\\nGetting Started\\nMean Median Mode\\nStandard Deviation\\nPercentile\\nData Distribution\\nNormal Data Distribution\\nScatter Plot\\nLinear Regression\\nPolynomial Regression\\nMultiple Regression\\nScale\\nTrain/Test\\nDecision Tree\\nConfusion Matrix\\nHierarchical Clustering\\nLogistic Regression\\nGrid Search\\nCategorical Data\\nK-means\\nBootstrap Aggregation\\nCross Validation\\nAUC - ROC Curve\\nK-nearest neighbors\\n\\nPython MySQL\\nMySQL Get Started\\nMySQL Create Database\\nMySQL Create Table\\nMySQL Insert\\nMySQL Select\\nMySQL Where\\nMySQL Order By\\nMySQL Delete\\nMySQL Drop Table\\nMySQL Update\\nMySQL Limit\\nMySQL Join\\n\\nPython MongoDB\\nMongoDB Get Started\\nMongoDB Create DB\\nMongoDB Collection\\nMongoDB Insert\\nMongoDB Find\\nMongoDB Query\\nMongoDB Sort\\nMongoDB Delete\\nMongoDB Drop Collection\\nMongoDB Update\\nMongoDB Limit\\n\\n\\nPython Reference\\nPython Overview\\nPython Built-in Functions\\nPython String Methods\\nPython List Methods\\nPython Dictionary Methods\\nPython Tuple Methods\\nPython Set Methods\\nPython File Methods\\nPython Keywords\\nPython Exceptions\\nPython Glossary\\n\\nModule Reference\\nRandom Module\\nRequests Module\\nStatistics Module\\nMath Module\\ncMath Module\\n\\nPython How To\\nRemove List Duplicates\\nReverse a String\\nAdd Two Numbers\\n\\nPython Examples\\nPython Examples\\nPython Compiler\\nPython Exercises\\nPython Quiz\\nPython Server\\nPython Syllabus\\nPython Study Plan\\nPython Interview Q&A\\nPython Bootcamp\\nPython Certificate\\nPython Training\\n\\n\\n\\n\\n\\n\\n\\n\\n\\n\\nPython Tutorial\\n\\n❮ Home\\nNext ❯\\n\\n\\nLearn Python\\nPython is a popular programming language.\\nPython can be used on a server to create web applications.\\nStart learning Python now »\\n\\n\\nLearning by Examples\\nWith our \"Try it Yourself\" editor, you can edit Python code and view the result.\\n\\nExample\\n\\nprint(\"Hello, World!\")\\n\\nTry it Yourself »\\n\\nClick on the \"Try it Yourself\" button to see how it works.\\n\\nPython File Handling\\nIn our File Handling section you will learn how to open, read, write, and \\ndelete files.\\nPython File Handling\\n\\nPython Database Handling\\nIn our database section you will learn how to access and work with MySQL and MongoDB databases:\\nPython MySQL Tutorial\\nPython MongoDB Tutorial\\n\\nPython Exercises\\nMany chapters in this tutorial end with an exercise where you can check your level of knowledge.\\n\\nSee all Python Exercises\\n\\n\\n\\n\\n\\n\\nPython Examples\\nLearn by examples! This tutorial supplements all explanations with clarifying examples.\\nSee All Python Examples\\n\\nPython Quiz\\nTest your Python skills with a quiz.\\nPython Quiz\\n\\n\\nMy Learning\\nTrack your progress with the free \"My Learning\" program here at W3Schools.\\nLog in to your account, and start earning points!\\nThis is an optional feature. You can study at W3Schools without using My Learning.\\n\\n\\n\\n\\n\\n\\n\\n\\n\\nPython Reference\\nYou will also find complete function and method references:\\nReference Overview\\nBuilt-in Functions\\nString Methods\\nList/Array Methods\\nDictionary Methods\\nTuple Methods\\nSet Methods\\nFile Methods\\nPython Keywords\\nPython Exceptions\\nPython Glossary\\nRandom Module\\nRequests Module\\nMath Module\\nCMath Module\\n\\nDownload Python\\nDownload Python from the official Python web site:\\n  https://python.org\\n\\n\\n\\n\\nKickstart your career\\nGet certified by completing the  course\\nGet certified\\n\\n\\n\\n\\n\\nw3schools CERTIFIED  .  2025\\n\\n\\n❮ Home\\nNext ❯\\n\\n\\n\\n\\n\\n\\n\\n\\n\\n\\n\\n\\n★\\n+1\\n\\n\\n\\n\\xa0\\n\\n\\n\\nTrack your progress - it\\'s free!\\n\\n\\n\\xa0\\n\\n\\n\\n\\n\\n\\n\\n          Log in\\n        \\n\\n          Sign Up\\n        \\n\\n\\n\\n\\n\\n\\n\\n\\n\\n\\n\\n\\n\\n\\n\\n\\n\\n\\n\\n\\n\\n\\n\\nCOLOR PICKER\\n\\n\\n\\n\\n\\n\\n\\n\\n\\n\\n\\n\\n\\n\\n\\n\\n\\n\\n\\n\\n\\n\\n\\n\\n\\n\\n\\n\\n\\n\\n\\n\\n\\n\\n'"
      ]
     },
     "execution_count": 36,
     "metadata": {},
     "output_type": "execute_result"
    }
   ],
   "source": [
    "sub_tag2.text"
   ]
  }
 ],
 "metadata": {
  "kernelspec": {
   "display_name": "venv",
   "language": "python",
   "name": "python3"
  },
  "language_info": {
   "codemirror_mode": {
    "name": "ipython",
    "version": 3
   },
   "file_extension": ".py",
   "mimetype": "text/x-python",
   "name": "python",
   "nbconvert_exporter": "python",
   "pygments_lexer": "ipython3",
   "version": "3.13.2"
  }
 },
 "nbformat": 4,
 "nbformat_minor": 2
}
