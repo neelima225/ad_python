{
 "cells": [
  {
   "cell_type": "markdown",
   "metadata": {},
   "source": [
    "### Decorator..."
   ]
  },
  {
   "cell_type": "code",
   "execution_count": 3,
   "metadata": {},
   "outputs": [],
   "source": [
    "def welcome(func):\n",
    "    def wrapper(*args ,**kwargs):\n",
    "        print(\"welcome\")\n",
    "        r= func(*args,**kwargs)\n",
    "        print(f\"function statment\",{r})\n",
    "        print(\"thanku\")\n",
    "        return r\n",
    "    return wrapper       \n"
   ]
  },
  {
   "cell_type": "code",
   "execution_count": 5,
   "metadata": {},
   "outputs": [],
   "source": [
    "\n",
    "@welcome\n",
    "def simple(p,r,t):\n",
    "    S = (p*r*t)/100\n",
    "    return S"
   ]
  },
  {
   "cell_type": "code",
   "execution_count": 6,
   "metadata": {},
   "outputs": [
    {
     "name": "stdout",
     "output_type": "stream",
     "text": [
      "welcome\n",
      "function statment {0.12}\n",
      "thanku\n"
     ]
    },
    {
     "data": {
      "text/plain": [
       "0.12"
      ]
     },
     "execution_count": 6,
     "metadata": {},
     "output_type": "execute_result"
    }
   ],
   "source": [
    "simple(100,0.02,6)"
   ]
  },
  {
   "cell_type": "code",
   "execution_count": 18,
   "metadata": {},
   "outputs": [],
   "source": [
    "@welcome\n",
    "def simple2( p= 120, r =0.03 , t = 5):\n",
    "    S2 = (p* r * t)\n",
    "    a = S2+ p\n",
    "    return S2,a\n"
   ]
  },
  {
   "cell_type": "code",
   "execution_count": 19,
   "metadata": {},
   "outputs": [
    {
     "name": "stdout",
     "output_type": "stream",
     "text": [
      "welcome\n",
      "function statment {(21.599999999999998, 141.6)}\n",
      "thanku\n"
     ]
    }
   ],
   "source": [
    "S2, a =simple2( p= 120 ,r = 0.03 ,t = 6)"
   ]
  },
  {
   "cell_type": "code",
   "execution_count": 20,
   "metadata": {},
   "outputs": [
    {
     "name": "stdout",
     "output_type": "stream",
     "text": [
      "welcome\n",
      "function statment {(33.0, 143.0)}\n",
      "thanku\n"
     ]
    }
   ],
   "source": [
    "s3 , a1 =simple2(p= 110, r =0.06 ,t =5)"
   ]
  },
  {
   "cell_type": "code",
   "execution_count": 38,
   "metadata": {},
   "outputs": [],
   "source": [
    "def detail(user):\n",
    "    def wrapper(*args ,**kwargs):\n",
    "        print(\"user details\")\n",
    "        user = (*args ,*kwargs)\n",
    "        print(f\"statement\",{user})\n",
    "        print(\"complete detail\")\n",
    "        return user\n",
    "    return wrapper\n"
   ]
  },
  {
   "cell_type": "code",
   "execution_count": 35,
   "metadata": {},
   "outputs": [],
   "source": [
    "@detail\n",
    "def candidate1(**kwargs):\n",
    "    student1 ={\n",
    "        \"name\" : \"NA\",\n",
    "        \"id\" :\"NA\",\n",
    "        \"COURSE\":\"NA\"\n",
    "    }\n",
    "    \n",
    "    student1.update(kwargs)\n",
    "\n",
    "    return student1\n",
    "    "
   ]
  },
  {
   "cell_type": "code",
   "execution_count": 39,
   "metadata": {},
   "outputs": [
    {
     "name": "stdout",
     "output_type": "stream",
     "text": [
      "user details\n",
      "complete detail\n"
     ]
    },
    {
     "data": {
      "text/plain": [
       "('name', 'id')"
      ]
     },
     "execution_count": 39,
     "metadata": {},
     "output_type": "execute_result"
    }
   ],
   "source": [
    "candidate1(name =\"neelima\", id = 101)"
   ]
  },
  {
   "cell_type": "code",
   "execution_count": 40,
   "metadata": {},
   "outputs": [],
   "source": [
    "import time"
   ]
  },
  {
   "cell_type": "code",
   "execution_count": 41,
   "metadata": {},
   "outputs": [
    {
     "name": "stdout",
     "output_type": "stream",
     "text": [
      "hello\n",
      "good morning\n"
     ]
    }
   ],
   "source": [
    "time.sleep(1.5)\n",
    "print(\"hello\")\n",
    "time.sleep(2)\n",
    "print(\"good morning\")"
   ]
  },
  {
   "cell_type": "code",
   "execution_count": 42,
   "metadata": {},
   "outputs": [
    {
     "name": "stdout",
     "output_type": "stream",
     "text": [
      "hello\n",
      "good morning\n",
      "time for execution :3.52 sec\n"
     ]
    }
   ],
   "source": [
    "# start th timing \n",
    "start = time.perf_counter()\n",
    "time.sleep(1.5)\n",
    "print(\"hello\")\n",
    "time.sleep(2)\n",
    "print(\"good morning\")\n",
    "\n",
    "# stop time\n",
    "stop = time.perf_counter()\n",
    "\n",
    "# get the elapsed time\n",
    "elapsed = stop- start\n",
    "print(f\"time for execution :{elapsed:.2f} sec\")"
   ]
  },
  {
   "cell_type": "code",
   "execution_count": 55,
   "metadata": {},
   "outputs": [],
   "source": [
    "def time_decorator(func):\n",
    "   \n",
    "   def wrapper(*args,**kwargs):\n",
    "      start = time.perf_counter()\n",
    "      r = func(*args,**kwargs)\n",
    "      print(f\"results:{r}\")\n",
    "      stop =time.perf_counter()\n",
    "      elapsed =stop-start\n",
    "      print(f\"elsaped time:{elapsed:.2f} sec\")\n",
    "      return r\n",
    "   \n",
    "   return wrapper"
   ]
  },
  {
   "cell_type": "code",
   "execution_count": 60,
   "metadata": {},
   "outputs": [],
   "source": [
    "@time_decorator\n",
    "def time1(t1):\n",
    "    time.sleep(3)\n",
    "\n",
    "    return t1+4"
   ]
  },
  {
   "cell_type": "code",
   "execution_count": 62,
   "metadata": {},
   "outputs": [
    {
     "ename": "AttributeError",
     "evalue": "'function' object has no attribute 'perf_counter'",
     "output_type": "error",
     "traceback": [
      "\u001b[1;31m---------------------------------------------------------------------------\u001b[0m",
      "\u001b[1;31mAttributeError\u001b[0m                            Traceback (most recent call last)",
      "Cell \u001b[1;32mIn[62], line 1\u001b[0m\n\u001b[1;32m----> 1\u001b[0m t2 \u001b[38;5;241m=\u001b[39m \u001b[43mtime1\u001b[49m\u001b[43m(\u001b[49m\u001b[38;5;241;43m4\u001b[39;49m\u001b[43m)\u001b[49m\n",
      "Cell \u001b[1;32mIn[55], line 4\u001b[0m, in \u001b[0;36mtime_decorator.<locals>.wrapper\u001b[1;34m(*args, **kwargs)\u001b[0m\n\u001b[0;32m      3\u001b[0m \u001b[38;5;28;01mdef\u001b[39;00m\u001b[38;5;250m \u001b[39m\u001b[38;5;21mwrapper\u001b[39m(\u001b[38;5;241m*\u001b[39margs,\u001b[38;5;241m*\u001b[39m\u001b[38;5;241m*\u001b[39mkwargs):\n\u001b[1;32m----> 4\u001b[0m    start \u001b[38;5;241m=\u001b[39m \u001b[43mtime\u001b[49m\u001b[38;5;241;43m.\u001b[39;49m\u001b[43mperf_counter\u001b[49m()\n\u001b[0;32m      5\u001b[0m    r \u001b[38;5;241m=\u001b[39m func(\u001b[38;5;241m*\u001b[39margs,\u001b[38;5;241m*\u001b[39m\u001b[38;5;241m*\u001b[39mkwargs)\n\u001b[0;32m      6\u001b[0m    \u001b[38;5;28mprint\u001b[39m(\u001b[38;5;124mf\u001b[39m\u001b[38;5;124m\"\u001b[39m\u001b[38;5;124mresults:\u001b[39m\u001b[38;5;132;01m{\u001b[39;00mr\u001b[38;5;132;01m}\u001b[39;00m\u001b[38;5;124m\"\u001b[39m)\n",
      "\u001b[1;31mAttributeError\u001b[0m: 'function' object has no attribute 'perf_counter'"
     ]
    }
   ],
   "source": [
    "t2 = time1(4)"
   ]
  },
  {
   "cell_type": "code",
   "execution_count": 63,
   "metadata": {},
   "outputs": [],
   "source": [
    "def square(n):\n",
    "    time.sleep(3.2)\n",
    "    return n**2\n"
   ]
  },
  {
   "cell_type": "code",
   "execution_count": 65,
   "metadata": {},
   "outputs": [
    {
     "ename": "AttributeError",
     "evalue": "'function' object has no attribute 'sleep'",
     "output_type": "error",
     "traceback": [
      "\u001b[1;31m---------------------------------------------------------------------------\u001b[0m",
      "\u001b[1;31mAttributeError\u001b[0m                            Traceback (most recent call last)",
      "Cell \u001b[1;32mIn[65], line 1\u001b[0m\n\u001b[1;32m----> 1\u001b[0m s1\u001b[38;5;241m=\u001b[39m\u001b[43msquare\u001b[49m\u001b[43m(\u001b[49m\u001b[43mn\u001b[49m\u001b[38;5;241;43m=\u001b[39;49m\u001b[38;5;241;43m12\u001b[39;49m\u001b[43m)\u001b[49m\n",
      "Cell \u001b[1;32mIn[63], line 2\u001b[0m, in \u001b[0;36msquare\u001b[1;34m(n)\u001b[0m\n\u001b[0;32m      1\u001b[0m \u001b[38;5;28;01mdef\u001b[39;00m\u001b[38;5;250m \u001b[39m\u001b[38;5;21msquare\u001b[39m(n):\n\u001b[1;32m----> 2\u001b[0m     \u001b[43mtime\u001b[49m\u001b[38;5;241;43m.\u001b[39;49m\u001b[43msleep\u001b[49m(\u001b[38;5;241m3.2\u001b[39m)\n\u001b[0;32m      3\u001b[0m     \u001b[38;5;28;01mreturn\u001b[39;00m n\u001b[38;5;241m*\u001b[39m\u001b[38;5;241m*\u001b[39m\u001b[38;5;241m2\u001b[39m\n",
      "\u001b[1;31mAttributeError\u001b[0m: 'function' object has no attribute 'sleep'"
     ]
    }
   ],
   "source": [
    "s1=square(n=12)"
   ]
  },
  {
   "cell_type": "code",
   "execution_count": null,
   "metadata": {},
   "outputs": [],
   "source": [
    "@time_decorator\n",
    "def sum_square(a:list[int[float]]) ->int|float:\n",
    "    s= 0\n",
    "    for i in a:\n",
    "        time.sleep(1)\n",
    "        s = s+i**2\n",
    "\n",
    "\n",
    "   return  s   \n"
   ]
  }
 ],
 "metadata": {
  "kernelspec": {
   "display_name": "venv",
   "language": "python",
   "name": "python3"
  },
  "language_info": {
   "codemirror_mode": {
    "name": "ipython",
    "version": 3
   },
   "file_extension": ".py",
   "mimetype": "text/x-python",
   "name": "python",
   "nbconvert_exporter": "python",
   "pygments_lexer": "ipython3",
   "version": "3.13.1"
  }
 },
 "nbformat": 4,
 "nbformat_minor": 2
}
